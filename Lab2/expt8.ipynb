{
 "cells": [
  {
   "cell_type": "markdown",
   "metadata": {},
   "source": [
    "Floyd's Algorithm for finding all pairs shortest paths in a weighted graph using the adjacency matrix representation."
   ]
  },
  {
   "cell_type": "code",
   "execution_count": 3,
   "metadata": {},
   "outputs": [
    {
     "name": "stdout",
     "output_type": "stream",
     "text": [
      "[[0, 3, 5, 6], [5, 0, 2, 3], [3, 6, 0, 1], [2, 5, 7, 0]]\n",
      "Shortest distances from vertex 0 to all vertices: [0, 3, 5, 6]\n",
      "Shortest distances from vertex 1 to all vertices: [5, 0, 2, 3]\n",
      "Shortest distances from vertex 2 to all vertices: [3, 6, 0, 1]\n",
      "Shortest distances from vertex 3 to all vertices: [2, 5, 7, 0]\n"
     ]
    }
   ],
   "source": [
    "def floyd_warshall(adj_matrix):\n",
    "    num_vertices = len(adj_matrix)\n",
    "\n",
    "    # Initialize the distance matrix with the adjacency matrix\n",
    "    distances = [row[:] for row in adj_matrix]\n",
    "\n",
    "    # Compute shortest paths\n",
    "    for k in range(num_vertices):\n",
    "        for i in range(num_vertices):\n",
    "            for j in range(num_vertices):\n",
    "                distances[i][j] = min(distances[i][j], distances[i][k] + distances[k][j])\n",
    "\n",
    "    return distances\n",
    "\n",
    "# Example adjacency matrix representation of the graph\n",
    "adj_matrix = [\n",
    "    [0, 3, float('inf'), 7],\n",
    "    [8, 0, 2, float('inf')],\n",
    "    [5, float('inf'), 0, 1],\n",
    "    [2, float('inf'), float('inf'), 0]\n",
    "]\n",
    "\n",
    "all_pairs_shortest_paths = floyd_warshall(adj_matrix)\n",
    "print(all_pairs_shortest_paths)\n",
    "for index, row in enumerate(all_pairs_shortest_paths):\n",
    "    print(\"Shortest distances from vertex\", index, \"to all vertices:\", row)\n"
   ]
  },
  {
   "cell_type": "code",
   "execution_count": 4,
   "metadata": {},
   "outputs": [],
   "source": [
    "def practice(adj_matrix):\n",
    "    no_of_vertices = len(adj_matrix)\n",
    "    \n",
    "    distances = [row[:] for row in adj_matrix]\n",
    "\n",
    "    for k in range(no_of_vertices):\n",
    "        for i in range(no_of_vertices):\n",
    "            for j in range(no_of_vertices):\n",
    "                distances[i][j] = min(distances[i][j], distances[i][k] + distances[k][j])\n",
    "\n",
    "    return distances"
   ]
  },
  {
   "cell_type": "code",
   "execution_count": 8,
   "metadata": {},
   "outputs": [
    {
     "name": "stdout",
     "output_type": "stream",
     "text": [
      "[0, 3, 5, 6]\n",
      "[5, 0, 2, 3]\n",
      "[3, 6, 0, 1]\n",
      "[2, 5, 7, 0]\n"
     ]
    }
   ],
   "source": [
    "adj_matrix = [\n",
    "    [0, 3, float('inf'), 7],\n",
    "    [8, 0, 2, float('inf')],\n",
    "    [5, float('inf'), 0, 1],\n",
    "    [2, float('inf'), float('inf'), 0]\n",
    "]\n",
    "\n",
    "ans = practice(adj_matrix)\n",
    "for i in ans: print(i)"
   ]
  }
 ],
 "metadata": {
  "kernelspec": {
   "display_name": "Python 3",
   "language": "python",
   "name": "python3"
  },
  "language_info": {
   "codemirror_mode": {
    "name": "ipython",
    "version": 3
   },
   "file_extension": ".py",
   "mimetype": "text/x-python",
   "name": "python",
   "nbconvert_exporter": "python",
   "pygments_lexer": "ipython3",
   "version": "3.11.1"
  },
  "orig_nbformat": 4
 },
 "nbformat": 4,
 "nbformat_minor": 2
}
