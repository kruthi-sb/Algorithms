{
  "cells": [
    {
      "cell_type": "markdown",
      "metadata": {
        "id": "EmIyad48LdHX"
      },
      "source": [
        "# Topological Sorting"
      ]
    },
    {
      "cell_type": "markdown",
      "metadata": {
        "id": "qI_a7YKVMs_s"
      },
      "source": [
        "Defaultdict is a container like dictionaries present in the module collections. Defaultdict is a sub-class of the dictionary class that returns a dictionary-like object. The functionality of both dictionaries and defaultdict are almost same except for the fact that defaultdict never raises a KeyError. It provides a default value for the key that does not exists."
      ]
    },
    {
      "cell_type": "code",
      "execution_count": 3,
      "metadata": {
        "colab": {
          "base_uri": "https://localhost:8080/"
        },
        "id": "27flXPcOLTGQ",
        "outputId": "c93c13be-3f93-4d4f-fbfe-13a36526e75c"
      },
      "outputs": [
        {
          "name": "stdout",
          "output_type": "stream",
          "text": [
            "d:  defaultdict(<function <lambda> at 0x0000021EFD99F560>, {'a': 1, 'b': 2})\n",
            "for key value c is:  Not present\n",
            "empty default dict:  defaultdict(<class 'list'>, {})\n",
            "default dict:  defaultdict(<class 'list'>, {2: [3, 1], 3: [4, 5]})\n"
          ]
        }
      ],
      "source": [
        "from collections import defaultdict\n",
        "d = defaultdict(lambda: \"Not present\")\n",
        "d[\"a\"] = 1\n",
        "d[\"b\"] = 2\n",
        "print(\"d: \", d)\n",
        "print(\"for key value c is: \", d[\"c\"])\n",
        "\n",
        "# creating an empty dictionary with elements in the form of list\n",
        "d_ = defaultdict(list)\n",
        "print(\"empty default dict: \", d_)\n",
        "\n",
        "# adding edges to it\n",
        "d_[2].append(3)\n",
        "d_[3].append(4)\n",
        "d_[2].append(1)\n",
        "d_[3].append(5)\n",
        "print(\"default dict: \", d_)"
      ]
    },
    {
      "cell_type": "code",
      "execution_count": 4,
      "metadata": {
        "id": "aiieTi2LM3Q5"
      },
      "outputs": [],
      "source": [
        "class TopologicalSort:\n",
        "    def __init__(self, no_of_vertices):\n",
        "        self.V = no_of_vertices\n",
        "        self.graph = defaultdict(list) # empty default dict\n",
        "\n",
        "    def add_edge(self,V_from,V_to):\n",
        "        self.graph[V_from].append(V_to)\n",
        "\n",
        "    # main function\n",
        "    def topo_sort(self):\n",
        "\n",
        "        visited = [False]*self.V\n",
        "        stacking = []\n",
        "\n",
        "        for i in range(self.V):\n",
        "            if visited[i] == False:\n",
        "                self.sort_add(i,visited,stacking)\n",
        "\n",
        "        return stacking\n",
        "        print(stacking)\n",
        "\n",
        "    # recursive sort add function\n",
        "    def sort_add(self, vertex, visited, stacking):\n",
        "\n",
        "        # make the vertex as visited - true\n",
        "        visited[vertex] = True\n",
        "\n",
        "        # for every \"value\" of visited key/vertex in defaultdict/graph,\n",
        "        for connecting_v in self.graph[vertex]:\n",
        "            # select the connecting vertex which is not visited\n",
        "            if visited[connecting_v] == False:\n",
        "                self.sort_add(connecting_v, visited,stacking)\n",
        "                # recursive function makes that connecting vertex as visited\n",
        "                # add checks the connecting vertex of that vertex\n",
        "                # recursively travel like a graph\n",
        "            # stops when all vertices are visited\n",
        "\n",
        "        # push the visited vertex to stack\n",
        "        stacking.insert(0,vertex)"
      ]
    },
    {
      "cell_type": "code",
      "execution_count": 5,
      "metadata": {
        "colab": {
          "base_uri": "https://localhost:8080/"
        },
        "id": "YjgTonE9Wkq4",
        "outputId": "16335b85-9e4c-4638-b6f3-ba4c16efbb75"
      },
      "outputs": [
        {
          "name": "stdout",
          "output_type": "stream",
          "text": [
            "Following is a Topological Sort of the given graph\n"
          ]
        },
        {
          "data": {
            "text/plain": [
              "[5, 4, 2, 3, 1, 0]"
            ]
          },
          "execution_count": 5,
          "metadata": {},
          "output_type": "execute_result"
        }
      ],
      "source": [
        "g = TopologicalSort(6)\n",
        "g.add_edge(5, 2)\n",
        "g.add_edge(5, 0)\n",
        "g.add_edge(4, 0)\n",
        "g.add_edge(4, 1)\n",
        "g.add_edge(2, 3)\n",
        "g.add_edge(3, 1)\n",
        "\n",
        "print (\"Following is a Topological Sort of the given graph\")\n",
        "g.topo_sort()"
      ]
    },
    {
      "cell_type": "code",
      "execution_count": null,
      "metadata": {
        "id": "7nc4EcjZW2Yi"
      },
      "outputs": [],
      "source": []
    },
    {
      "cell_type": "code",
      "execution_count": null,
      "metadata": {},
      "outputs": [],
      "source": []
    }
  ],
  "metadata": {
    "colab": {
      "provenance": [],
      "toc_visible": true
    },
    "kernelspec": {
      "display_name": "Python 3",
      "name": "python3"
    },
    "language_info": {
      "codemirror_mode": {
        "name": "ipython",
        "version": 3
      },
      "file_extension": ".py",
      "mimetype": "text/x-python",
      "name": "python",
      "nbconvert_exporter": "python",
      "pygments_lexer": "ipython3",
      "version": "3.11.1"
    }
  },
  "nbformat": 4,
  "nbformat_minor": 0
}
