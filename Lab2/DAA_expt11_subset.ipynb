{
  "cells": [
    {
      "cell_type": "markdown",
      "metadata": {
        "id": "JWbB9yme7Naa"
      },
      "source": [
        "# Experiment 11: Dynamic Programming"
      ]
    },
    {
      "cell_type": "code",
      "execution_count": 1,
      "metadata": {
        "colab": {
          "base_uri": "https://localhost:8080/"
        },
        "id": "aROQ-tJV7ERg",
        "outputId": "522623f6-f978-4a72-eacf-c7f7616cac5f"
      },
      "outputs": [
        {
          "name": "stdout",
          "output_type": "stream",
          "text": [
            "Found a subset with given sum\n"
          ]
        }
      ],
      "source": [
        "def isSubsetSum(set, n, sum):\n",
        "\n",
        "    # Base Cases\n",
        "    if (sum == 0):\n",
        "        return True\n",
        "    if (n == 0):\n",
        "        return False\n",
        "\n",
        "    # If last element is greater than\n",
        "    # sum, then ignore it\n",
        "    if (set[n - 1] > sum):\n",
        "        return isSubsetSum(set, n - 1, sum)\n",
        "\n",
        "    # Else, check if sum can be obtained\n",
        "    # by any of the following\n",
        "    # (a) including the last element\n",
        "    # (b) excluding the last element\n",
        "    return isSubsetSum(\n",
        "        set, n-1, sum) or isSubsetSum(\n",
        "        set, n-1, sum-set[n-1])\n",
        "\n",
        "\n",
        "# Driver code\n",
        "if __name__ == '__main__':\n",
        "    set = [3, 34, 4, 12, 5, 2]\n",
        "    sum = 9\n",
        "    n = len(set)\n",
        "    if (isSubsetSum(set, n, sum) == True):\n",
        "        print(\"Found a subset with given sum\")\n",
        "    else:\n",
        "        print(\"No subset with given sum\")"
      ]
    },
    {
      "cell_type": "code",
      "execution_count": 2,
      "metadata": {
        "id": "h4rGaU_-JA1d"
      },
      "outputs": [
        {
          "name": "stdout",
          "output_type": "stream",
          "text": [
            "Found a subset with given sum\n"
          ]
        }
      ],
      "source": [
        "def practice(set, n, sum):\n",
        "\n",
        "    # reached solution with sum = 0\n",
        "    if sum == 0:\n",
        "        return True\n",
        "    # came to the end of set (n-1)\n",
        "    if n == 0:\n",
        "        return False\n",
        "    \n",
        "    # if number is larger than the sum, go to the next set(n-1)\n",
        "    if set[n-1] > sum:\n",
        "        return practice(set, n-1, sum)\n",
        "    \n",
        "    # later... check with these cases: \n",
        "    # subtract the sum with the number\n",
        "    return practice(set, n-1, sum) or \\\n",
        "    practice(set, n-1, sum - set[n-1])\n",
        "\n",
        "set = [3, 34, 4, 12, 5, 2]\n",
        "sum = 9\n",
        "n = len(set)\n",
        "if (practice(set, n, sum) == True):\n",
        "    print(\"Found a subset with given sum\")\n",
        "else:\n",
        "    print(\"No subset with given sum\")"
      ]
    },
    {
      "cell_type": "code",
      "execution_count": null,
      "metadata": {},
      "outputs": [],
      "source": []
    }
  ],
  "metadata": {
    "colab": {
      "provenance": [],
      "toc_visible": true
    },
    "kernelspec": {
      "display_name": "Python 3",
      "name": "python3"
    },
    "language_info": {
      "codemirror_mode": {
        "name": "ipython",
        "version": 3
      },
      "file_extension": ".py",
      "mimetype": "text/x-python",
      "name": "python",
      "nbconvert_exporter": "python",
      "pygments_lexer": "ipython3",
      "version": "3.11.1"
    }
  },
  "nbformat": 4,
  "nbformat_minor": 0
}
