{
 "cells": [
  {
   "cell_type": "markdown",
   "metadata": {},
   "source": [
    "# Expt 7:  Program to obtain shortest path using *Djikstra’s algorithm*"
   ]
  },
  {
   "cell_type": "code",
   "execution_count": 16,
   "metadata": {},
   "outputs": [
    {
     "name": "stdout",
     "output_type": "stream",
     "text": [
      "Shortest distances from vertex 0 to all vertices: [0, 7, 4, 9]\n"
     ]
    }
   ],
   "source": [
    "import heapq\n",
    "\n",
    "def dijkstra(adj_matrix, start):\n",
    "    num_vertices = len(adj_matrix)\n",
    "    distances = [float('inf')] * num_vertices\n",
    "    distances[start] = 0\n",
    "    priority_queue = [(0, start)]\n",
    "\n",
    "    while priority_queue:\n",
    "        # Pop the vertex with the smallest distance from the priority queue (first element)\n",
    "        current_distance, current_vertex = heapq.heappop(priority_queue)\n",
    "        \n",
    "        # If the distance to current_vertex is greater than the current distance, ignore it\n",
    "        if current_distance > distances[current_vertex]:\n",
    "            continue\n",
    "\n",
    "        # Iterate through all neighbors of the current_vertex\n",
    "        for neighbor in range(num_vertices):\n",
    "            weight = adj_matrix[current_vertex][neighbor]\n",
    "\n",
    "            # If there's a direct edge from current_vertex to neighbor\n",
    "            if weight > 0:\n",
    "                distance = current_distance + weight\n",
    "\n",
    "                # If the newly calculated distance is smaller than the current distance to neighbor\n",
    "                if distance < distances[neighbor]:\n",
    "                    distances[neighbor] = distance\n",
    "                    heapq.heappush(priority_queue, (distance, neighbor))\n",
    "\n",
    "    return distances\n",
    "\n",
    "# Example adjacency matrix representation of the graph\n",
    "adj_matrix = [\n",
    "    [0, 7, 4, 0],\n",
    "    [1, 0, 2, 5],\n",
    "    [4, 3, 0, 5],\n",
    "    [0, 9, 1, 0]\n",
    "]\n",
    "\n",
    "source_vertex = 0  # Corresponds to vertex 'A'\n",
    "shortest_distances = dijkstra(adj_matrix, source_vertex)\n",
    "print(\"Shortest distances from vertex\", source_vertex, \"to all vertices:\", shortest_distances)\n"
   ]
  },
  {
   "cell_type": "markdown",
   "metadata": {},
   "source": [
    "with print statements"
   ]
  },
  {
   "cell_type": "code",
   "execution_count": null,
   "metadata": {},
   "outputs": [],
   "source": [
    "import heapq\n",
    "\n",
    "def dijkstra(adj_matrix, start):\n",
    "    num_vertices = len(adj_matrix)\n",
    "    distances = [float('inf')] * num_vertices\n",
    "    distances[start] = 0\n",
    "    priority_queue = [(0, start)]\n",
    "\n",
    "    while priority_queue:\n",
    "        print(\"priotiy queue: \", priority_queue)\n",
    "        current_distance, current_vertex = heapq.heappop(priority_queue)\n",
    "        print(\"POPPED: \", current_distance, current_vertex)\n",
    "        print(\"--------------------\")\n",
    "        print(\"current distance: \", current_distance)\n",
    "        print(\"distances[current_vertex]: \", distances[current_vertex])\n",
    "\n",
    "        if current_distance > distances[current_vertex]:\n",
    "            continue\n",
    "            print(\".......check if current dist > dist[current vertex] \")\n",
    "            print(\"yes!! continued.......\")\n",
    "\n",
    "        for neighbor in range(num_vertices):\n",
    "            weight = adj_matrix[current_vertex][neighbor]\n",
    "            print(\"=====for loop=====\")\n",
    "            print(\"neighbor: \", neighbor)\n",
    "            print(\"checking weight: \", weight)\n",
    "            if weight > 0:\n",
    "                distance = current_distance + weight\n",
    "                print(\"weight is greater than 0!!\")\n",
    "                print(\"distance: currect_dist + weight \", distance)\n",
    "                if distance < distances[neighbor]:\n",
    "                    print(\"distance is less than dist[neighbor]!!\")\n",
    "                    print(\"distance: \", distance,\"\\tneighbour dist: \", distances[neighbor])\n",
    "                    distances[neighbor] = distance\n",
    "                    print(\"updated distances: \", distances)\n",
    "                    heapq.heappush(priority_queue, (distance, neighbor))\n",
    "                    print(\"priority queue after push: \", priority_queue)\n",
    "                    print(\"\\n\")\n",
    "\n",
    "    return distances\n",
    "\n",
    "# Example adjacency matrix representation of the graph\n",
    "adj_matrix = [\n",
    "    [0, 1, 4, 0],\n",
    "    [1, 0, 2, 5],\n",
    "    [4, 2, 0, 1],\n",
    "    [0, 5, 1, 0]\n",
    "]\n",
    "\n",
    "source_vertex = 3  # Corresponds to vertex 'A'\n",
    "shortest_distances = dijkstra(adj_matrix, source_vertex)\n",
    "print(\"Shortest distances from vertex\", source_vertex, \"to all vertices:\", shortest_distances)\n"
   ]
  },
  {
   "cell_type": "code",
   "execution_count": 1,
   "metadata": {},
   "outputs": [],
   "source": [
    "import heapq\n",
    "def practice(adj_matrix, start_node):\n",
    "\n",
    "    no_of_nodes = len(adj_matrix)\n",
    "    distances = [float('inf')] * no_of_nodes\n",
    "    distances[start_node] = 0\n",
    "    priority_queue = [(0, start_node)]\n",
    "\n",
    "    # iterate till no elements are left in priority queue\n",
    "    while priority_queue:\n",
    "        # pop first element\n",
    "        current_dist, current_node = heapq.heappop(priority_queue)\n",
    "\n",
    "        # check if current distance(popped) > than recorded distances\n",
    "        if current_dist > distances[current_node]:\n",
    "            # if True, skip the current iteration from while loop\n",
    "            continue\n",
    "        \n",
    "        # check the weights of node's neighboring nodes\n",
    "        for neighbor in range(no_of_nodes):\n",
    "            # get weight of reaching neighboring node from current node\n",
    "            nei_weight = adj_matrix[current_node][neighbor]\n",
    "\n",
    "            if nei_weight > 0:\n",
    "                # if there exists a direct edge from the neighbor to current node,\n",
    "                # add the weight to current distance of current node\n",
    "                neighbor_to_curr_dist = nei_weight + current_dist\n",
    "\n",
    "                if neighbor_to_curr_dist < distances[neighbor]:\n",
    "                    # if total distance from current to neighbor is < previous recorded dist of neighboring node,\n",
    "                    # then, update the distances of neighboring node from current node as the total dist\n",
    "                    distances[neighbor] = neighbor_to_curr_dist\n",
    "                    # push the total dist, neighbor to priority queue\n",
    "                    heapq.heappush(priority_queue, (neighbor_to_curr_dist, neighbor))\n",
    "                    \n",
    "    return distances\n"
   ]
  },
  {
   "cell_type": "code",
   "execution_count": 2,
   "metadata": {},
   "outputs": [
    {
     "name": "stdout",
     "output_type": "stream",
     "text": [
      "Shortest distances from vertex 3 to all vertices: [5, 4, 1, 0]\n"
     ]
    }
   ],
   "source": [
    "adj_matrix = [\n",
    "    [0, 7, 4, 0],\n",
    "    [1, 0, 2, 5],\n",
    "    [4, 3, 0, 5],\n",
    "    [0, 9, 1, 0]\n",
    "]\n",
    "\n",
    "\n",
    "source_vertex =  3\n",
    "ans = practice(adj_matrix, source_vertex)\n",
    "print(\"Shortest distances from vertex\", source_vertex, \"to all vertices:\", ans)"
   ]
  },
  {
   "cell_type": "code",
   "execution_count": null,
   "metadata": {},
   "outputs": [],
   "source": []
  }
 ],
 "metadata": {
  "kernelspec": {
   "display_name": "Python 3",
   "language": "python",
   "name": "python3"
  },
  "language_info": {
   "codemirror_mode": {
    "name": "ipython",
    "version": 3
   },
   "file_extension": ".py",
   "mimetype": "text/x-python",
   "name": "python",
   "nbconvert_exporter": "python",
   "pygments_lexer": "ipython3",
   "version": "3.11.1"
  },
  "orig_nbformat": 4
 },
 "nbformat": 4,
 "nbformat_minor": 2
}
