{
 "cells": [
  {
   "cell_type": "markdown",
   "metadata": {},
   "source": [
    "Warshall's Algorithm for computing the transitive closure of a directed graph using the adjacency matrix representation"
   ]
  },
  {
   "cell_type": "code",
   "execution_count": 7,
   "metadata": {},
   "outputs": [
    {
     "name": "stdout",
     "output_type": "stream",
     "text": [
      "[1, 1, 1]\n",
      "[0, 1, 1]\n",
      "[0, 0, 1]\n"
     ]
    }
   ],
   "source": [
    "def transitive_closure(adj_matrix):\n",
    "    num_vertices = len(adj_matrix)\n",
    "\n",
    "    # Initialize the transitive closure matrix with the adjacency matrix\n",
    "    #closure = [row[:] for row in adj_matrix]\n",
    "    closure = adj_matrix\n",
    "\n",
    "    # Compute transitive closure\n",
    "    for k in range(num_vertices):\n",
    "        for i in range(num_vertices):\n",
    "            for j in range(num_vertices):\n",
    "                closure[i][j] = closure[i][j] or (closure[i][k] and closure[k][j])\n",
    "\n",
    "    return closure\n",
    "\n",
    "# Example adjacency matrix representation of the graph\n",
    "adj_matrix = [\n",
    "    [1, 1, 0],\n",
    "    [0, 1, 1],\n",
    "    [0, 0, 1]\n",
    "]\n",
    "\n",
    "transitive_closure_matrix = transitive_closure(adj_matrix)\n",
    "for row in transitive_closure_matrix:\n",
    "    print(row)\n"
   ]
  },
  {
   "cell_type": "code",
   "execution_count": 8,
   "metadata": {},
   "outputs": [
    {
     "name": "stdout",
     "output_type": "stream",
     "text": [
      "[1, 1, 1]\n",
      "[0, 1, 1]\n",
      "[0, 0, 1]\n"
     ]
    }
   ],
   "source": [
    "def practice_transitive_closure(adj_matrix):\n",
    "    V = len(adj_matrix)\n",
    "\n",
    "    closure = [row[:] for row in adj_matrix]\n",
    "\n",
    "    for k in range(V):\n",
    "        for i in range(V):\n",
    "            for j in range(V):\n",
    "                closure[i][j] = closure[i][j] or (closure[i][k] and closure[k][j])\n",
    "    return closure\n",
    "\n",
    "adj_matrix = [\n",
    "    [1, 1, 0],\n",
    "    [0, 1, 1],\n",
    "    [0, 0, 1]\n",
    "]\n",
    "\n",
    "ans = practice_transitive_closure(adj_matrix)\n",
    "for i in ans: print(i)\n"
   ]
  },
  {
   "cell_type": "code",
   "execution_count": 9,
   "metadata": {},
   "outputs": [],
   "source": [
    "def transitive_closure(graph):\n",
    "\n",
    "    closure = graph\n",
    "\n",
    "    for k in range(len(graph)):\n",
    "        for i in range(len(graph)):\n",
    "            for j in range(len(graph)):\n",
    "                closure[i][j] = (closure[i][j] or (closure[i][k] and closure[k][j]))\n",
    "    return closure\n",
    "    "
   ]
  },
  {
   "cell_type": "code",
   "execution_count": 11,
   "metadata": {},
   "outputs": [
    {
     "name": "stdout",
     "output_type": "stream",
     "text": [
      "[1, 1, 1]\n",
      "[0, 1, 1]\n",
      "[0, 0, 1]\n"
     ]
    }
   ],
   "source": [
    "graph = [\n",
    "    [1, 1, 0],\n",
    "    [0, 1, 1],\n",
    "    [0, 0, 1]\n",
    "]\n",
    "\n",
    "ans = transitive_closure(graph)\n",
    "for i in ans: print(i)\n"
   ]
  },
  {
   "cell_type": "code",
   "execution_count": null,
   "metadata": {},
   "outputs": [],
   "source": []
  }
 ],
 "metadata": {
  "kernelspec": {
   "display_name": "Python 3",
   "language": "python",
   "name": "python3"
  },
  "language_info": {
   "codemirror_mode": {
    "name": "ipython",
    "version": 3
   },
   "file_extension": ".py",
   "mimetype": "text/x-python",
   "name": "python",
   "nbconvert_exporter": "python",
   "pygments_lexer": "ipython3",
   "version": "3.11.1"
  },
  "orig_nbformat": 4
 },
 "nbformat": 4,
 "nbformat_minor": 2
}
