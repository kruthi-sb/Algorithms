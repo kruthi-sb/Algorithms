{
 "cells": [
  {
   "cell_type": "markdown",
   "metadata": {},
   "source": [
    "Warshall's Algorithm for computing the transitive closure of a directed graph using the adjacency matrix representation"
   ]
  },
  {
   "cell_type": "code",
   "execution_count": 1,
   "metadata": {},
   "outputs": [
    {
     "name": "stdout",
     "output_type": "stream",
     "text": [
      "[1, 1, 1]\n",
      "[0, 1, 1]\n",
      "[0, 0, 1]\n"
     ]
    }
   ],
   "source": [
    "def transitive_closure(adj_matrix):\n",
    "    num_vertices = len(adj_matrix)\n",
    "\n",
    "    # Initialize the transitive closure matrix with the adjacency matrix\n",
    "    closure = [row[:] for row in adj_matrix]\n",
    "\n",
    "    # Compute transitive closure\n",
    "    for k in range(num_vertices):\n",
    "        for i in range(num_vertices):\n",
    "            for j in range(num_vertices):\n",
    "                closure[i][j] = closure[i][j] or (closure[i][k] and closure[k][j])\n",
    "\n",
    "    return closure\n",
    "\n",
    "# Example adjacency matrix representation of the graph\n",
    "adj_matrix = [\n",
    "    [1, 1, 0],\n",
    "    [0, 1, 1],\n",
    "    [0, 0, 1]\n",
    "]\n",
    "\n",
    "transitive_closure_matrix = transitive_closure(adj_matrix)\n",
    "for row in transitive_closure_matrix:\n",
    "    print(row)\n"
   ]
  },
  {
   "cell_type": "code",
   "execution_count": null,
   "metadata": {},
   "outputs": [],
   "source": []
  }
 ],
 "metadata": {
  "kernelspec": {
   "display_name": "Python 3",
   "language": "python",
   "name": "python3"
  },
  "language_info": {
   "codemirror_mode": {
    "name": "ipython",
    "version": 3
   },
   "file_extension": ".py",
   "mimetype": "text/x-python",
   "name": "python",
   "nbconvert_exporter": "python",
   "pygments_lexer": "ipython3",
   "version": "3.11.1"
  },
  "orig_nbformat": 4
 },
 "nbformat": 4,
 "nbformat_minor": 2
}
