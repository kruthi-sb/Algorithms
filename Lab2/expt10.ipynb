{
 "cells": [
  {
   "cell_type": "code",
   "execution_count": 1,
   "metadata": {},
   "outputs": [
    {
     "name": "stdout",
     "output_type": "stream",
     "text": [
      "Topological order: [2]\n"
     ]
    }
   ],
   "source": [
    "def topological_sort(adj_matrix):\n",
    "    num_vertices = len(adj_matrix)\n",
    "    in_degree = [0] * num_vertices\n",
    "    result = []\n",
    "\n",
    "    # Calculate in-degrees of all vertices\n",
    "    for i in range(num_vertices):\n",
    "        for j in range(num_vertices):\n",
    "            if adj_matrix[j][i]:\n",
    "                in_degree[i] += 1\n",
    "\n",
    "    # Initialize a queue with vertices having in-degree 0\n",
    "    queue = [i for i in range(num_vertices) if in_degree[i] == 0]\n",
    "\n",
    "    while queue:\n",
    "        vertex = queue.pop(0)\n",
    "        result.append(vertex)\n",
    "\n",
    "        # Decrease in-degrees of neighbors and enqueue if in-degree becomes 0\n",
    "        for neighbor in range(num_vertices):\n",
    "            if adj_matrix[vertex][neighbor]:\n",
    "                in_degree[neighbor] -= 1\n",
    "                if in_degree[neighbor] == 0:\n",
    "                    queue.append(neighbor)\n",
    "\n",
    "    return result\n",
    "\n",
    "# Example adjacency matrix representation of the DAG\n",
    "adj_matrix = [\n",
    "    [0, 0, 0, 0, 0, 0],\n",
    "    [1, 0, 0, 0, 0, 0],\n",
    "    [1, 1, 0, 0, 0, 0],\n",
    "    [0, 1, 0, 0, 1, 0],\n",
    "    [0, 0, 0, 1, 0, 1],\n",
    "    [0, 0, 0, 0, 0, 0]\n",
    "]\n",
    "\n",
    "topological_order = topological_sort(adj_matrix)\n",
    "print(\"Topological order:\", topological_order)\n"
   ]
  },
  {
   "cell_type": "code",
   "execution_count": null,
   "metadata": {},
   "outputs": [],
   "source": []
  }
 ],
 "metadata": {
  "kernelspec": {
   "display_name": "Python 3",
   "language": "python",
   "name": "python3"
  },
  "language_info": {
   "codemirror_mode": {
    "name": "ipython",
    "version": 3
   },
   "file_extension": ".py",
   "mimetype": "text/x-python",
   "name": "python",
   "nbconvert_exporter": "python",
   "pygments_lexer": "ipython3",
   "version": "3.11.1"
  },
  "orig_nbformat": 4
 },
 "nbformat": 4,
 "nbformat_minor": 2
}
