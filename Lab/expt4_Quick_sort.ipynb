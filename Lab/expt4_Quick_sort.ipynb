{
 "cells": [
  {
   "cell_type": "markdown",
   "metadata": {},
   "source": [
    "# Quick Sort: Divide and Conquer"
   ]
  },
  {
   "cell_type": "code",
   "execution_count": 1,
   "metadata": {},
   "outputs": [
    {
     "name": "stdout",
     "output_type": "stream",
     "text": [
      "Sorted list:  [3, 9, 10, 27, 38, 43, 82]\n"
     ]
    }
   ],
   "source": [
    "def Quick_sort(arr):\n",
    "    # Base case: If the array has 0 or 1 element, it is already sorted\n",
    "    if len(arr) <= 1:\n",
    "        return arr\n",
    "\n",
    "    # Choose a pivot element (can be any element, here we choose the last element)\n",
    "    pivot = arr[-1]\n",
    "    \n",
    "    # Create three lists to store elements less than, equal to, and greater than the pivot\n",
    "    less, equal, greater = [], [], []\n",
    "\n",
    "    # Divide the array into three parts based on the pivot\n",
    "    for num in arr:\n",
    "        if num < pivot:\n",
    "            less.append(num)\n",
    "        elif num == pivot:\n",
    "            equal.append(num)\n",
    "        else:\n",
    "            greater.append(num)\n",
    "\n",
    "    # Recursively sort the \"less\" and \"greater\" parts\n",
    "    sorted_arr = Quick_sort(less) + equal + Quick_sort(greater)\n",
    "    return sorted_arr\n",
    "\n",
    "# Example usage:\n",
    "arr = [38, 27, 43, 3, 9, 82, 10]\n",
    "sorted_arr = Quick_sort(arr)\n",
    "print(\"Sorted list: \", sorted_arr)  # Output: [3, 9, 10, 27, 38, 43, 82]\n"
   ]
  },
  {
   "cell_type": "code",
   "execution_count": null,
   "metadata": {},
   "outputs": [],
   "source": []
  }
 ],
 "metadata": {
  "kernelspec": {
   "display_name": "Python 3",
   "language": "python",
   "name": "python3"
  },
  "language_info": {
   "codemirror_mode": {
    "name": "ipython",
    "version": 3
   },
   "file_extension": ".py",
   "mimetype": "text/x-python",
   "name": "python",
   "nbconvert_exporter": "python",
   "pygments_lexer": "ipython3",
   "version": "3.11.1"
  },
  "orig_nbformat": 4
 },
 "nbformat": 4,
 "nbformat_minor": 2
}
