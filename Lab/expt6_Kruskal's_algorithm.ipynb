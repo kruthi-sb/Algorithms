{
 "cells": [
  {
   "cell_type": "markdown",
   "metadata": {},
   "source": [
    "# Kruskal's Algorithm"
   ]
  },
  {
   "cell_type": "code",
   "execution_count": 1,
   "metadata": {},
   "outputs": [
    {
     "name": "stdout",
     "output_type": "stream",
     "text": [
      "Minimum Spanning Tree: [(0, 1, 2), (0, 2, 3), (4, 1, 4), (2, 3, 5), (5, 2, 5)]\n",
      "Total Cost: 19\n"
     ]
    }
   ],
   "source": [
    "class UnionFind:\n",
    "    def __init__(self, n):\n",
    "        self.parent = list(range(n))\n",
    "        self.rank = [0] * n\n",
    "\n",
    "    def find(self, x):\n",
    "        if x != self.parent[x]:\n",
    "            self.parent[x] = self.find(self.parent[x])\n",
    "        return self.parent[x]\n",
    "\n",
    "    def union(self, x, y):\n",
    "        root_x, root_y = self.find(x), self.find(y)\n",
    "        if root_x == root_y:\n",
    "            return False\n",
    "\n",
    "        if self.rank[root_x] < self.rank[root_y]:\n",
    "            self.parent[root_x] = root_y\n",
    "        elif self.rank[root_x] > self.rank[root_y]:\n",
    "            self.parent[root_y] = root_x\n",
    "        else:\n",
    "            self.parent[root_y] = root_x\n",
    "            self.rank[root_x] += 1\n",
    "\n",
    "        return True\n",
    "\n",
    "def kruskals_algorithm(graph):\n",
    "    edges = []\n",
    "    for u, neighbors in graph.items():\n",
    "        for v, weight in neighbors:\n",
    "            edges.append((u, v, weight))\n",
    "\n",
    "    # Sort edges by weight in ascending order\n",
    "    edges.sort(key=lambda x: x[2])\n",
    "\n",
    "    n = len(graph)\n",
    "    uf = UnionFind(n)\n",
    "    mst = []\n",
    "    total_cost = 0\n",
    "\n",
    "    for u, v, weight in edges:\n",
    "        if uf.union(u, v):\n",
    "            mst.append((u, v, weight))\n",
    "            total_cost += weight\n",
    "\n",
    "    return mst, total_cost\n",
    "\n",
    "# Example usage:\n",
    "# Define the graph as an adjacency list with weighted edges\n",
    "graph = {\n",
    "    0: [(1, 2), (2, 3)],\n",
    "    1: [(0, 2), (2, 4)],\n",
    "    2: [(0, 3), (1, 4), (3, 5)],\n",
    "    3: [(2, 5)],\n",
    "    4: [(1, 4)],\n",
    "    5: [(2, 5)]\n",
    "}\n",
    "\n",
    "mst, total_cost = kruskals_algorithm(graph)\n",
    "print(\"Minimum Spanning Tree:\", mst)\n",
    "print(\"Total Cost:\", total_cost)\n"
   ]
  },
  {
   "cell_type": "code",
   "execution_count": null,
   "metadata": {},
   "outputs": [],
   "source": []
  }
 ],
 "metadata": {
  "kernelspec": {
   "display_name": "Python 3",
   "language": "python",
   "name": "python3"
  },
  "language_info": {
   "codemirror_mode": {
    "name": "ipython",
    "version": 3
   },
   "file_extension": ".py",
   "mimetype": "text/x-python",
   "name": "python",
   "nbconvert_exporter": "python",
   "pygments_lexer": "ipython3",
   "version": "3.11.1"
  },
  "orig_nbformat": 4
 },
 "nbformat": 4,
 "nbformat_minor": 2
}
