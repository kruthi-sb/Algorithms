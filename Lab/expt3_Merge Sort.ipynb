{
 "cells": [
  {
   "cell_type": "markdown",
   "metadata": {},
   "source": [
    "# Divide And Conquer"
   ]
  },
  {
   "cell_type": "markdown",
   "metadata": {},
   "source": [
    "## Merge Sort"
   ]
  },
  {
   "cell_type": "code",
   "execution_count": 128,
   "metadata": {},
   "outputs": [],
   "source": [
    "# Merge\n",
    "\n",
    "# give B, C - sub arrays as input\n",
    "def Merge(B,C):\n",
    "    sorted_A = [] # create empty array to store sorted elements\n",
    "    \n",
    "    p = len(B) # p stores size of B ( 1st array)\n",
    "    q = len(C) # q stores size of C ( 2nd array)\n",
    "    i = j = 0  # i - pointer for B and j - pointer for C\n",
    "    \n",
    "    # run a while loop till the pointers reach the end of arrays\n",
    "    while i < p and j < q:\n",
    "        # compare each element in both sub arrays\n",
    "        if B[i] <= C[j]:\n",
    "            # append the lesser element proved in B to sorted array\n",
    "            sorted_A.append(B[i]) \n",
    "            i += 1 # increment pointer of B\n",
    "        else:\n",
    "            # append lesser element proved in C to sorted array\n",
    "            sorted_A.append(C[j])\n",
    "            j += 1 # increment pointer of C\n",
    "    \n",
    "    # continue this till the end of arrays B and C\n",
    "    # i.e when i and j pointers reach p and q limits.\n",
    "    # exit while loop.\n",
    "    print(\"Sorted_A before merging: \", sorted_A)\n",
    "\n",
    "    # Merging:\n",
    "    sorted_A.extend(B[i:])\n",
    "    sorted_A.extend(C[j:])\n",
    "    print(\"Sorted list: \", sorted_A)\n",
    "    return sorted_A\n"
   ]
  },
  {
   "cell_type": "code",
   "execution_count": 132,
   "metadata": {},
   "outputs": [],
   "source": [
    "# MergeSort\n",
    "\n",
    "# give Array 'A' with size 'n' as input\n",
    "def Merge_sort(A):\n",
    "    n = len(A)\n",
    "    if n > 1:\n",
    "        print(\".........\")\n",
    "        # if so, split the array into 2 sub arrays of length n/2\n",
    "        B = A[:n//2] # 1st half\n",
    "        C = A[n//2:] # 2nd half\n",
    "        # apply merge_sort on B and C separately\n",
    "        # and store the returned sorted_A in B and C respectively.\n",
    "        print(\" --> entering merge_sort(B)\")\n",
    "        B = Merge_sort(B)\n",
    "        print(\" --> entering merge_sort(C)\")\n",
    "        C = Merge_sort(C)\n",
    "        print(\"B: \", B)\n",
    "        print(\"C: \", C)\n",
    "        print(\"A: \", A)\n",
    "        # Merge the solution returned.\n",
    "        return Merge(B, C)\n",
    "    \n",
    "    return A"
   ]
  },
  {
   "cell_type": "code",
   "execution_count": 133,
   "metadata": {},
   "outputs": [
    {
     "name": "stdout",
     "output_type": "stream",
     "text": [
      "[3, 45, 4, 6]\n",
      "[8, 2, 9, 0]\n"
     ]
    }
   ],
   "source": [
    "A = [3,45,4,6,8,2,9,0]\n",
    "print(A[:len(A)//2])\n",
    "print(A[len(A)//2:])"
   ]
  },
  {
   "cell_type": "code",
   "execution_count": 134,
   "metadata": {},
   "outputs": [
    {
     "name": "stdout",
     "output_type": "stream",
     "text": [
      ".........\n",
      " --> entering merge_sort(B)\n",
      ".........\n",
      " --> entering merge_sort(B)\n",
      ".........\n",
      " --> entering merge_sort(B)\n",
      " --> entering merge_sort(C)\n",
      "B:  [3]\n",
      "C:  [45]\n",
      "A:  [3, 45]\n",
      "Sorted_A before merging:  [3]\n",
      "Sorted list:  [3, 45]\n",
      " --> entering merge_sort(C)\n",
      ".........\n",
      " --> entering merge_sort(B)\n",
      " --> entering merge_sort(C)\n",
      "B:  [4]\n",
      "C:  [6]\n",
      "A:  [4, 6]\n",
      "Sorted_A before merging:  [4]\n",
      "Sorted list:  [4, 6]\n",
      "B:  [3, 45]\n",
      "C:  [4, 6]\n",
      "A:  [3, 45, 4, 6]\n",
      "Sorted_A before merging:  [3, 4, 6]\n",
      "Sorted list:  [3, 4, 6, 45]\n",
      " --> entering merge_sort(C)\n",
      ".........\n",
      " --> entering merge_sort(B)\n",
      ".........\n",
      " --> entering merge_sort(B)\n",
      " --> entering merge_sort(C)\n",
      "B:  [8]\n",
      "C:  [2]\n",
      "A:  [8, 2]\n",
      "Sorted_A before merging:  [2]\n",
      "Sorted list:  [2, 8]\n",
      " --> entering merge_sort(C)\n",
      ".........\n",
      " --> entering merge_sort(B)\n",
      " --> entering merge_sort(C)\n",
      "B:  [9]\n",
      "C:  [0]\n",
      "A:  [9, 0]\n",
      "Sorted_A before merging:  [0]\n",
      "Sorted list:  [0, 9]\n",
      "B:  [2, 8]\n",
      "C:  [0, 9]\n",
      "A:  [8, 2, 9, 0]\n",
      "Sorted_A before merging:  [0, 2, 8]\n",
      "Sorted list:  [0, 2, 8, 9]\n",
      "B:  [3, 4, 6, 45]\n",
      "C:  [0, 2, 8, 9]\n",
      "A:  [3, 45, 4, 6, 8, 2, 9, 0]\n",
      "Sorted_A before merging:  [0, 2, 3, 4, 6, 8, 9]\n",
      "Sorted list:  [0, 2, 3, 4, 6, 8, 9, 45]\n"
     ]
    }
   ],
   "source": [
    "res = Merge_sort(A)"
   ]
  },
  {
   "cell_type": "code",
   "execution_count": 135,
   "metadata": {},
   "outputs": [
    {
     "name": "stdout",
     "output_type": "stream",
     "text": [
      "[0, 2, 3, 4, 6, 8, 9, 45]\n"
     ]
    }
   ],
   "source": [
    "print(res)"
   ]
  },
  {
   "cell_type": "markdown",
   "metadata": {},
   "source": [
    "Simpler Way without comments"
   ]
  },
  {
   "cell_type": "code",
   "execution_count": 2,
   "metadata": {},
   "outputs": [
    {
     "name": "stdout",
     "output_type": "stream",
     "text": [
      "Sorted list:  [0, 2, 3, 4, 6, 8, 9, 45]\n"
     ]
    }
   ],
   "source": [
    "def Merge(B, C):\n",
    "    sorted_A = []\n",
    "    p = len(B)\n",
    "    q = len(C)\n",
    "    i = j = 0\n",
    "\n",
    "    while i < p and j < q:\n",
    "        if B[i] <= C[j]:\n",
    "            sorted_A.append(B[i])\n",
    "            i += 1\n",
    "        else:\n",
    "            sorted_A.append(C[j])\n",
    "            j += 1\n",
    "    # Append any remaining elements from B and C\n",
    "    sorted_A.extend(B[i:])\n",
    "    sorted_A.extend(C[j:])\n",
    "    return sorted_A\n",
    "\n",
    "def Merge_sort(A):\n",
    "    n = len(A)\n",
    "    if n > 1:\n",
    "        B = A[:n//2]\n",
    "\n",
    "        C = A[n//2:]\n",
    "\n",
    "        # Recursively sort and store results in B and C\n",
    "        B = Merge_sort(B)\n",
    "        C = Merge_sort(C)\n",
    "\n",
    "        # Merge the sorted B and C arrays\n",
    "        return Merge(B, C)\n",
    "    return A\n",
    "\n",
    "# Example usage:\n",
    "A = [3,45,4,6,8,2,9,0]\n",
    "sorted_arr = Merge_sort(A)\n",
    "print(\"Sorted list: \", sorted_arr)  # Output: [3, 9, 10, 27, 38, 43, 82]\n"
   ]
  },
  {
   "cell_type": "code",
   "execution_count": null,
   "metadata": {},
   "outputs": [],
   "source": []
  },
  {
   "cell_type": "code",
   "execution_count": null,
   "metadata": {},
   "outputs": [],
   "source": []
  }
 ],
 "metadata": {
  "kernelspec": {
   "display_name": "Python 3",
   "language": "python",
   "name": "python3"
  },
  "language_info": {
   "codemirror_mode": {
    "name": "ipython",
    "version": 3
   },
   "file_extension": ".py",
   "mimetype": "text/x-python",
   "name": "python",
   "nbconvert_exporter": "python",
   "pygments_lexer": "ipython3",
   "version": "3.11.1"
  },
  "orig_nbformat": 4
 },
 "nbformat": 4,
 "nbformat_minor": 2
}
