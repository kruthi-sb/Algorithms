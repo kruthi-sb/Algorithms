{
  "cells": [
    {
      "cell_type": "markdown",
      "metadata": {
        "id": "1KVyTJaepoim"
      },
      "source": [
        "# String matching using Brute Force Algorithm:"
      ]
    },
    {
      "cell_type": "code",
      "execution_count": 7,
      "metadata": {
        "id": "xR94G-qiq9ut"
      },
      "outputs": [],
      "source": [
        "def Brute_Force(full_string,string):\n",
        "    # count is the number of times the pattern is found\n",
        "    count = 0\n",
        "\n",
        "    # run the loop\n",
        "    for i in range( len(full_string) - len(string) +1):\n",
        "        if full_string[i : i+ len(string)] == string:\n",
        "            print(\"pattern found at \", i)\n",
        "            count += 1\n",
        "    print(\"count = \", count)\n",
        "    if count == 0:\n",
        "        print(\"pattern not found\")\n"
      ]
    },
    {
      "cell_type": "code",
      "execution_count": 8,
      "metadata": {
        "colab": {
          "base_uri": "https://localhost:8080/"
        },
        "id": "8XfHC7IU1WTr",
        "outputId": "56b6f732-8d73-4331-f299-92a4a6348320"
      },
      "outputs": [
        {
          "name": "stdout",
          "output_type": "stream",
          "text": [
            "pattern found at  2\n",
            "pattern found at  11\n",
            "count =  2\n"
          ]
        }
      ],
      "source": [
        "Brute_Force(\"Heworldllo world\",\"world\")"
      ]
    },
    {
      "cell_type": "markdown",
      "metadata": {
        "id": "VVSqPlbC5uqO"
      },
      "source": [
        "\n",
        "## Test"
      ]
    },
    {
      "cell_type": "code",
      "execution_count": 11,
      "metadata": {
        "id": "kiWAU6EO7Owm"
      },
      "outputs": [],
      "source": [
        "def algo(fullstring,string):\n",
        "    \n",
        "    cnt = 0\n",
        "    rest_len = len(fullstring) - len(string) +1\n",
        "\n",
        "    for i in range(rest_len):\n",
        "        if fullstring[i: i+len(string)] == string:\n",
        "            cnt += 1\n",
        "            print(\"found at: \", i)\n",
        "    print(\"count : \", cnt)"
      ]
    },
    {
      "cell_type": "code",
      "execution_count": 12,
      "metadata": {},
      "outputs": [
        {
          "name": "stdout",
          "output_type": "stream",
          "text": [
            "found at:  4\n",
            "found at:  21\n",
            "count :  2\n"
          ]
        }
      ],
      "source": [
        "algo(\"afghaakdy drgtir ezstaakzg\",\"aak\")"
      ]
    },
    {
      "cell_type": "code",
      "execution_count": 13,
      "metadata": {},
      "outputs": [
        {
          "name": "stdout",
          "output_type": "stream",
          "text": [
            "pattern found at  4\n",
            "pattern found at  21\n",
            "count =  2\n"
          ]
        }
      ],
      "source": [
        "Brute_Force(\"afghaakdy drgtir ezstaakzg\",\"aak\")"
      ]
    },
    {
      "cell_type": "code",
      "execution_count": null,
      "metadata": {},
      "outputs": [],
      "source": []
    }
  ],
  "metadata": {
    "colab": {
      "provenance": []
    },
    "kernelspec": {
      "display_name": "Python 3",
      "name": "python3"
    },
    "language_info": {
      "codemirror_mode": {
        "name": "ipython",
        "version": 3
      },
      "file_extension": ".py",
      "mimetype": "text/x-python",
      "name": "python",
      "nbconvert_exporter": "python",
      "pygments_lexer": "ipython3",
      "version": "3.11.1"
    }
  },
  "nbformat": 4,
  "nbformat_minor": 0
}
