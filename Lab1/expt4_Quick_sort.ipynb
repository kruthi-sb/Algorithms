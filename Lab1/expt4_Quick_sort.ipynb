{
 "cells": [
  {
   "cell_type": "markdown",
   "metadata": {},
   "source": [
    "# Quick Sort: Divide and Conquer"
   ]
  },
  {
   "cell_type": "code",
   "execution_count": 2,
   "metadata": {},
   "outputs": [
    {
     "name": "stdout",
     "output_type": "stream",
     "text": [
      "Sorted list:  [0, 4, 8, 9, 10, 27, 38]\n"
     ]
    }
   ],
   "source": [
    "def Quick_sort(A):\n",
    "    # Base case: If the array has 0 or 1 element, it is already sorted\n",
    "    if len(A) <= 1:\n",
    "        return A\n",
    "    # else, these stmts are executed:\n",
    "    \n",
    "    # Choose a pivot element (can be any element, here we choose the last element)\n",
    "    pivot = A[-1]\n",
    "    \n",
    "    # Create three lists to store elements less than, equal to, and greater than the pivot\n",
    "    less, equal, greater = [], [], []\n",
    "\n",
    "    # Divide the array into three parts based on the pivot\n",
    "    for i in A:\n",
    "        if i < pivot:\n",
    "            less.append(i)\n",
    "        elif i == pivot:\n",
    "            equal.append(i)\n",
    "        else:\n",
    "            greater.append(i)\n",
    "\n",
    "    # Recursively sort the \"less\" and \"greater\" parts\n",
    "    sorted_arr = Quick_sort(less) + equal + Quick_sort(greater)\n",
    "    return sorted_arr\n",
    "\n",
    "# Example usage:\n",
    "arr = [38, 27, 4, 0, 9, 8, 10]\n",
    "sorted_arr = Quick_sort(arr)\n",
    "print(\"Sorted list: \", sorted_arr)  \n"
   ]
  },
  {
   "cell_type": "code",
   "execution_count": null,
   "metadata": {},
   "outputs": [],
   "source": []
  }
 ],
 "metadata": {
  "kernelspec": {
   "display_name": "Python 3",
   "language": "python",
   "name": "python3"
  },
  "language_info": {
   "codemirror_mode": {
    "name": "ipython",
    "version": 3
   },
   "file_extension": ".py",
   "mimetype": "text/x-python",
   "name": "python",
   "nbconvert_exporter": "python",
   "pygments_lexer": "ipython3",
   "version": "3.11.1"
  },
  "orig_nbformat": 4
 },
 "nbformat": 4,
 "nbformat_minor": 2
}
