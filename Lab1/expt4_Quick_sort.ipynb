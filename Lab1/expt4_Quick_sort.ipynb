{
 "cells": [
  {
   "cell_type": "markdown",
   "metadata": {},
   "source": [
    "# Divide and Conquer\n",
    "## Quick Sort\n",
    "time complexity: \n",
    "- best and average case: O(nlogn)\n",
    "- worst case: O(n^2)"
   ]
  },
  {
   "cell_type": "markdown",
   "metadata": {},
   "source": [
    "### Explaination"
   ]
  },
  {
   "cell_type": "code",
   "execution_count": 9,
   "metadata": {},
   "outputs": [],
   "source": [
    "def Quick_sort(A):\n",
    "    # Base case: If the array has 0 or 1 element, it is already sorted\n",
    "    if len(A) <= 1:\n",
    "        return A\n",
    "    # else, these stmts are executed:\n",
    "    \n",
    "    # Choose a pivot element (can be any element, here we choose the last element)\n",
    "    pivot = A[-1]\n",
    "    print(\"A: \",A)\n",
    "    print(\"pivot: \", pivot)\n",
    "    \n",
    "    # Create three lists to store elements less than, equal to, and greater than the pivot\n",
    "    less, equal, greater = [], [], []\n",
    "\n",
    "    # Divide the array into three parts based on the pivot\n",
    "    for i in A:\n",
    "        if i < pivot:\n",
    "            less.append(i)\n",
    "        elif i == pivot:\n",
    "            equal.append(i)\n",
    "        else:\n",
    "            greater.append(i)\n",
    "\n",
    "    print(\"less: \", less)\n",
    "    print(\"equal: \", equal)\n",
    "    print(\"greater: \", greater)\n",
    "    print(\".................................\")\n",
    "    # Recursively sort the \"less\" and \"greater\" parts\n",
    "    sorted_arr = Quick_sort(less) + equal + Quick_sort(greater)\n",
    "    return sorted_arr\n"
   ]
  },
  {
   "cell_type": "code",
   "execution_count": 10,
   "metadata": {},
   "outputs": [
    {
     "name": "stdout",
     "output_type": "stream",
     "text": [
      "A:  [38, 27, 4, 0, 9, 40, 67, 8, 10]\n",
      "pivot:  10\n",
      "less:  [4, 0, 9, 8]\n",
      "equal:  [10]\n",
      "greater:  [38, 27, 40, 67]\n",
      ".................................\n",
      "A:  [4, 0, 9, 8]\n",
      "pivot:  8\n",
      "less:  [4, 0]\n",
      "equal:  [8]\n",
      "greater:  [9]\n",
      ".................................\n",
      "A:  [4, 0]\n",
      "pivot:  0\n",
      "less:  []\n",
      "equal:  [0]\n",
      "greater:  [4]\n",
      ".................................\n",
      "A:  [38, 27, 40, 67]\n",
      "pivot:  67\n",
      "less:  [38, 27, 40]\n",
      "equal:  [67]\n",
      "greater:  []\n",
      ".................................\n",
      "A:  [38, 27, 40]\n",
      "pivot:  40\n",
      "less:  [38, 27]\n",
      "equal:  [40]\n",
      "greater:  []\n",
      ".................................\n",
      "A:  [38, 27]\n",
      "pivot:  27\n",
      "less:  []\n",
      "equal:  [27]\n",
      "greater:  [38]\n",
      ".................................\n",
      "Sorted list:  [0, 4, 8, 9, 10, 27, 38, 40, 67]\n"
     ]
    }
   ],
   "source": [
    "# Example usage:\n",
    "arr = [38, 27, 4, 0, 9, 40, 67, 8, 10 ]\n",
    "sorted_arr = Quick_sort(arr)\n",
    "print(\"Sorted list: \", sorted_arr)  "
   ]
  },
  {
   "cell_type": "markdown",
   "metadata": {},
   "source": [
    "### Replication"
   ]
  },
  {
   "cell_type": "code",
   "execution_count": 13,
   "metadata": {},
   "outputs": [],
   "source": [
    "def quick_sort(A):\n",
    "\n",
    "    if len(A) <= 1:\n",
    "        return A\n",
    "    \n",
    "    p = A[-1]\n",
    "    less, equal, greater = [], [], []\n",
    "\n",
    "    for i in A:\n",
    "        if i < p:\n",
    "            less.append(i)\n",
    "        elif i == p:\n",
    "            equal.append(i)\n",
    "        else:\n",
    "            greater.append(i)\n",
    "    \n",
    "    sorted_arr = quick_sort(less) + equal + quick_sort(greater)\n",
    "    return sorted_arr\n"
   ]
  },
  {
   "cell_type": "code",
   "execution_count": 16,
   "metadata": {},
   "outputs": [
    {
     "name": "stdout",
     "output_type": "stream",
     "text": [
      "[1, 1, 3, 6, 8, 23, 24, 34, 34, 45, 45, 64, 77, 89, 234]\n"
     ]
    }
   ],
   "source": [
    "A = [34,1,45,64,23,77,45,1,6,3,8,234,89,24,34]\n",
    "sorted_arr = quick_sort(A)\n",
    "print(sorted_arr)"
   ]
  },
  {
   "cell_type": "markdown",
   "metadata": {},
   "source": [
    "DONE"
   ]
  },
  {
   "cell_type": "code",
   "execution_count": null,
   "metadata": {},
   "outputs": [],
   "source": []
  }
 ],
 "metadata": {
  "kernelspec": {
   "display_name": "Python 3",
   "language": "python",
   "name": "python3"
  },
  "language_info": {
   "codemirror_mode": {
    "name": "ipython",
    "version": 3
   },
   "file_extension": ".py",
   "mimetype": "text/x-python",
   "name": "python",
   "nbconvert_exporter": "python",
   "pygments_lexer": "ipython3",
   "version": "3.11.1"
  },
  "orig_nbformat": 4
 },
 "nbformat": 4,
 "nbformat_minor": 2
}
