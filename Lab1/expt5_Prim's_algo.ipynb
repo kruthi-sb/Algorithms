{
  "cells": [
    {
      "cell_type": "markdown",
      "metadata": {
        "id": "Lx9h7b8LnioG"
      },
      "source": [
        "# Prim's Algorithm"
      ]
    },
    {
      "cell_type": "markdown",
      "metadata": {},
      "source": [
        "## Main"
      ]
    },
    {
      "cell_type": "code",
      "execution_count": 1,
      "metadata": {},
      "outputs": [
        {
          "name": "stdout",
          "output_type": "stream",
          "text": [
            "Minimum Spanning Tree: [(0, 0), (3, 1), (2, 2), (1, 3)]\n",
            "Total Cost: 6\n"
          ]
        }
      ],
      "source": [
        "import heapq\n",
        "\n",
        "def prim(graph):\n",
        "    num_vertices = len(graph)\n",
        "    mst = []  # Minimum Spanning Tree\n",
        "    visited = [False] * num_vertices  # To track visited vertices\n",
        "    starting_vertex = 0  # Choose any starting vertex\n",
        "    total_cost = 0\n",
        "    \n",
        "    # Initialize the priority queue with edges from the starting vertex\n",
        "    priority_queue = [(0, starting_vertex)]  # (weight, vertex)\n",
        "    \n",
        "    while priority_queue:\n",
        "        weight, current_vertex = heapq.heappop(priority_queue)  # Get the minimum-weight edge\n",
        "        if visited[current_vertex]:\n",
        "            continue # skip the current iteration when the vertex is already visited.\n",
        "        \n",
        "        # if vertex not visited,\n",
        "        visited[current_vertex] = True\n",
        "        mst.append((current_vertex, weight))\n",
        "        total_cost += weight\n",
        "        \n",
        "        # Explore neighbors of the current vertex\n",
        "        # The enumerate() function in Python is used to iterate over a sequence (such as a list, tuple, or string) \n",
        "        # while keeping track of both the index and the value of each element during iteration.\n",
        "        for neighbor, neighbor_weight in enumerate(graph[current_vertex]):\n",
        "            if neighbor_weight > 0 and not visited[neighbor]:\n",
        "                heapq.heappush(priority_queue, (neighbor_weight, neighbor))\n",
        "    \n",
        "    return mst, total_cost\n",
        "\n",
        "# Example weight matrix\n",
        "graph = [\n",
        "    [0,3,2,1],\n",
        "    [3,0,0,9],\n",
        "    [2,0,0,8],\n",
        "    [1,9,8,0]\n",
        "]\n",
        "\n",
        "minimum_spanning_tree, total_cost = prim(graph)\n",
        "print(\"Minimum Spanning Tree:\", minimum_spanning_tree)\n",
        "print(\"Total Cost:\", total_cost)\n"
      ]
    },
    {
      "cell_type": "markdown",
      "metadata": {},
      "source": [
        "## Replication"
      ]
    },
    {
      "cell_type": "code",
      "execution_count": 13,
      "metadata": {},
      "outputs": [],
      "source": [
        "import heapq\n",
        "\n",
        "def prim(graph):\n",
        "\n",
        "    num_vertices = len(graph)\n",
        "    visited = [False]*num_vertices\n",
        "    mst = []\n",
        "    starting_v = 0\n",
        "    total_cost = 0\n",
        "\n",
        "    # priority queue\n",
        "    priority = [(starting_v, 0)] # (vertex, weight)\n",
        "\n",
        "    # choose min weight\n",
        "    while priority:\n",
        "        # store current vertex and weight\n",
        "        current_v, weight = heapq.heappop(priority)\n",
        "        if visited[current_v]:\n",
        "            continue # skip\n",
        "    \n",
        "        # if not visited\n",
        "        visited[current_v] = True\n",
        "        mst.append((current_v, weight))\n",
        "        total_cost += weight\n",
        "\n",
        "        # explore neighbors of current vertex\n",
        "        for neighbor, neighbor_w in enumerate(graph[current_v]):\n",
        "            if neighbor_w > 0 and not visited[neighbor]:\n",
        "                heapq.heappush(priority,(neighbor,neighbor_w))\n",
        "    \n",
        "    return mst, total_cost\n"
      ]
    },
    {
      "cell_type": "code",
      "execution_count": 14,
      "metadata": {},
      "outputs": [
        {
          "name": "stdout",
          "output_type": "stream",
          "text": [
            "Minimum Spanning Tree: [(0, 0), (1, 3), (2, 2), (3, 1)]\n",
            "Total Cost: 6\n"
          ]
        }
      ],
      "source": [
        "# Example weight matrix\n",
        "graph = [\n",
        "    [0,3,2,1],\n",
        "    [3,0,0,9],\n",
        "    [2,0,0,8],\n",
        "    [1,9,8,0]\n",
        "]\n",
        "\n",
        "minimum_spanning_tree, total_cost = prim(graph)\n",
        "print(\"Minimum Spanning Tree:\", minimum_spanning_tree)\n",
        "print(\"Total Cost:\", total_cost)"
      ]
    },
    {
      "cell_type": "markdown",
      "metadata": {},
      "source": [
        "DONE"
      ]
    },
    {
      "cell_type": "markdown",
      "metadata": {},
      "source": [
        "## Explaination"
      ]
    },
    {
      "cell_type": "markdown",
      "metadata": {},
      "source": [
        "In Prim's algorithm, we use heapq to maintain a priority queue of edges that connect the visited vertices to the unvisited vertices. At each step, we pop the edge with the smallest weight from the priority queue and include it in the Minimum Spanning Tree (MST). The heapq module allows us to efficiently perform these operations, making Prim's algorithm more efficient.\n",
        "\n",
        "In Prim's algorithm, heapq is a Python module that provides a priority queue implementation using a binary heap. The priority queue is a data structure that allows efficient retrieval of the element with the minimum value\n",
        "\n",
        "The heapq module in Python allows us to maintain a heap data structure and provides functions like heappush() to add elements to the heap, heappop() to remove and return the smallest element from the heap, and heapify() to convert a list into a heap in linear time. The binary heap ensures that the smallest element can be retrieved in O(1) time, while insertion and deletion take O(log n) time, where n is the number of elements in the heap."
      ]
    },
    {
      "cell_type": "markdown",
      "metadata": {},
      "source": [
        "## For dictionary representation of graph"
      ]
    },
    {
      "cell_type": "code",
      "execution_count": 2,
      "metadata": {},
      "outputs": [
        {
          "name": "stdout",
          "output_type": "stream",
          "text": [
            "Minimum Spanning Tree: [(0, 1, 2), (0, 2, 3), (2, 3, 5)]\n",
            "Total Cost: 10\n"
          ]
        }
      ],
      "source": [
        "import heapq\n",
        "\n",
        "def prims_algorithm(graph):\n",
        "    n = len(graph)  # Number of vertices in the graph\n",
        "    visited = [False] * n\n",
        "    min_heap = []  # To store edges in the min heap\n",
        "\n",
        "    # Start with the first vertex as the initial vertex\n",
        "    initial_vertex = 0\n",
        "    visited[initial_vertex] = True\n",
        "\n",
        "    # Add all the edges connected to the initial vertex to the min heap\n",
        "    for v, weight in graph[initial_vertex]:\n",
        "        heapq.heappush(min_heap, (weight, initial_vertex, v))\n",
        "\n",
        "    mst = []  # To store the Minimum Spanning Tree\n",
        "    total_cost = 0\n",
        "\n",
        "    while min_heap:\n",
        "        weight, u, v = heapq.heappop(min_heap)\n",
        "\n",
        "        if not visited[v]:\n",
        "            visited[v] = True\n",
        "            mst.append((u, v, weight))\n",
        "            total_cost += weight\n",
        "\n",
        "            for neighbor, w in graph[v]:\n",
        "                if not visited[neighbor]:\n",
        "                    heapq.heappush(min_heap, (w, v, neighbor))\n",
        "\n",
        "    return mst, total_cost\n",
        "\n",
        "# Example usage:\n",
        "# Define the graph as an adjacency list with weighted edges\n",
        "graph = {\n",
        "    0: [(1, 2), (2, 3)],\n",
        "    1: [(0, 2), (2, 4)],\n",
        "    2: [(0, 3), (1, 4), (3, 5)],\n",
        "    3: [(2, 5)],\n",
        "    4: [(1, 4)],\n",
        "    5: [(2, 5)]\n",
        "}\n",
        "\n",
        "mst, total_cost = prims_algorithm(graph)\n",
        "print(\"Minimum Spanning Tree:\", mst)\n",
        "print(\"Total Cost:\", total_cost)\n"
      ]
    },
    {
      "cell_type": "markdown",
      "metadata": {
        "id": "oMOZ05RVr-t1"
      },
      "source": [
        "## Lab execution"
      ]
    },
    {
      "cell_type": "code",
      "execution_count": 4,
      "metadata": {
        "colab": {
          "base_uri": "https://localhost:8080/"
        },
        "id": "bpy9qmbpnc8x",
        "outputId": "a8c246ff-3052-4168-cd46-10926c0e1893"
      },
      "outputs": [
        {
          "name": "stdout",
          "output_type": "stream",
          "text": [
            "Edge \tWeight\n",
            "0 - 1 \t 2\n",
            "1 - 2 \t 3\n",
            "0 - 3 \t 6\n",
            "1 - 4 \t 5\n"
          ]
        }
      ],
      "source": [
        "# Prim's Minimum Spanning Tree (MST) algorithm.\n",
        "# The program is for adjacency matrix\n",
        "# representation of the graph\n",
        "\n",
        "# Library for INT_MAX\n",
        "import sys\n",
        "\n",
        "# create a graph class\n",
        "class Graph():\n",
        "\n",
        "    # initialise with 2 variables, V - vertices and\n",
        "    # graph - the matrix representation of graph\n",
        "\tdef __init__(self, vertices):\n",
        "\t\tself.V = vertices # parameter given, say 5\n",
        "\t\tself.graph = [[0 for column in range(vertices)]\n",
        "\t\t\t\t\tfor row in range(vertices)]\n",
        "        # graph is created as a 2D list containing 0s\n",
        "        # [[0, 0, 0, 0, 0], [0, 0, 0, 0, 0], [0, 0, 0, 0, 0], [0, 0, 0, 0, 0], [0, 0, 0, 0, 0]]\n",
        "\n",
        "\n",
        "\t# A utility function to print\n",
        "\t# the constructed MST stored in parent[]\n",
        "\tdef printMST(self, parent):\n",
        "\t\tprint(\"Edge \\tWeight\")\n",
        "\t\tfor i in range(1, self.V):\n",
        "\t\t\tprint(parent[i], \"-\", i, \"\\t\", self.graph[i][parent[i]])\n",
        "\n",
        "\t# A utility function to find the vertex with\n",
        "\t# minimum distance value, from the set of vertices\n",
        "\t# not yet included in shortest path tree\n",
        "\tdef minKey(self, key, mstSet):\n",
        "\n",
        "\t\t# Initialize min value to the maxsize a variable can store in system\n",
        "\t\tmin = sys.maxsize # o/p: 9223372036854775807\n",
        "\n",
        "\t\tfor v in range(self.V):\n",
        "\t\t\tif key[v] < min and mstSet[v] == False:\n",
        "\t\t\t\tmin = key[v]\n",
        "\t\t\t\tmin_index = v\n",
        "\n",
        "\t\treturn min_index\n",
        "\n",
        "\t# Function to construct and print MST for a graph\n",
        "\t# represented using adjacency matrix representation\n",
        "\tdef primMST(self):\n",
        "\n",
        "\t\t# Key values used to pick minimum weight edge in cut\n",
        "\t\tkey = [sys.maxsize] * self.V\n",
        "        # o/p: [9223372036854775807, 9223372036854775807, 9223372036854775807, 9223372036854775807, 9223372036854775807]\n",
        "\n",
        "        # Array to store constructed MST\n",
        "\t\tparent = [None] * self.V\n",
        "        # o/p: [None, None, None, None, None]\n",
        "\n",
        "\t\t# Make key 0 so that this vertex is picked as first vertex\n",
        "\t\tkey[0] = 0\n",
        "\t\tmstSet = [False] * self.V\n",
        "        # o/p: [False, False, False, False, False]\n",
        "\n",
        "\t\tparent[0] = -1 # First node is always the root of\n",
        "\n",
        "\t\tfor cout in range(self.V):\n",
        "\n",
        "\t\t\t# Pick the minimum distance vertex from\n",
        "\t\t\t# the set of vertices not yet processed.\n",
        "\t\t\t# u is always equal to src in first iteration\n",
        "\t\t\tu = self.minKey(key, mstSet)\n",
        "\n",
        "\t\t\t# Put the minimum distance vertex in\n",
        "\t\t\t# the shortest path tree\n",
        "\t\t\tmstSet[u] = True\n",
        "\n",
        "\t\t\t# Update dist value of the adjacent vertices\n",
        "\t\t\t# of the picked vertex only if the current\n",
        "\t\t\t# distance is greater than new distance and\n",
        "\t\t\t# the vertex in not in the shortest path tree\n",
        "\t\t\tfor v in range(self.V):\n",
        "\n",
        "\t\t\t\t# graph[u][v] is non zero only for adjacent vertices of m\n",
        "\t\t\t\t# mstSet[v] is false for vertices not yet included in MST\n",
        "\t\t\t\t# Update the key only if graph[u][v] is smaller than key[v]\n",
        "\t\t\t\tif self.graph[u][v] > 0 and mstSet[v] == False \\\n",
        "\t\t\t\tand key[v] > self.graph[u][v]:\n",
        "\t\t\t\t\tkey[v] = self.graph[u][v]\n",
        "\t\t\t\t\tparent[v] = u\n",
        "\n",
        "\t\tself.printMST(parent)\n",
        "\n",
        "\n",
        "# Driver's code\n",
        "if __name__ == '__main__':\n",
        "\tg = Graph(5)\n",
        "\tg.graph = [[0, 2, 0, 6, 0],\n",
        "\t\t\t[2, 0, 3, 8, 5],\n",
        "\t\t\t[0, 3, 0, 0, 7],\n",
        "\t\t\t[6, 8, 0, 0, 9],\n",
        "\t\t\t[0, 5, 7, 9, 0]]\n",
        "\n",
        "\tg.primMST()\n",
        "\n",
        "\n"
      ]
    },
    {
      "cell_type": "code",
      "execution_count": 5,
      "metadata": {
        "colab": {
          "base_uri": "https://localhost:8080/"
        },
        "id": "BDvP4fiRuWeI",
        "outputId": "351b118d-2b1c-4b44-a8c7-14b66eac3259"
      },
      "outputs": [
        {
          "name": "stdout",
          "output_type": "stream",
          "text": [
            "[9223372036854775807, 9223372036854775807, 9223372036854775807, 9223372036854775807, 9223372036854775807]\n",
            "[False, False, False, False, False]\n"
          ]
        }
      ],
      "source": [
        "graph = [ [0 for column in range(5)] for row in range(5)]\n",
        "key = [sys.maxsize] * 5\n",
        "print(key)\n",
        "parent = [False] * 5\n",
        "print(parent)"
      ]
    },
    {
      "cell_type": "code",
      "execution_count": 6,
      "metadata": {
        "id": "aVM0jWaWv6jI"
      },
      "outputs": [],
      "source": [
        "mstSet = [False, False, False, False, False]\n",
        "min = sys.maxsize # o/p: 9223372036854775807\n",
        "key = [9223372036854775807, 9223372036854775807, 9223372036854775807, 9223372036854775807, 9223372036854775807]\n",
        "for v in range(5):\n",
        "    if key[v] < min and mstSet[v] == False:\n",
        "\t    min = key[v]"
      ]
    },
    {
      "cell_type": "code",
      "execution_count": null,
      "metadata": {
        "id": "Hb8SOr1Q9V0f"
      },
      "outputs": [],
      "source": []
    }
  ],
  "metadata": {
    "colab": {
      "provenance": []
    },
    "kernelspec": {
      "display_name": "Python 3",
      "name": "python3"
    },
    "language_info": {
      "codemirror_mode": {
        "name": "ipython",
        "version": 3
      },
      "file_extension": ".py",
      "mimetype": "text/x-python",
      "name": "python",
      "nbconvert_exporter": "python",
      "pygments_lexer": "ipython3",
      "version": "3.11.1"
    }
  },
  "nbformat": 4,
  "nbformat_minor": 0
}
