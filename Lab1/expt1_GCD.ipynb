{
  "cells": [
    {
      "cell_type": "markdown",
      "metadata": {},
      "source": [
        "# Welcome to learning Algorithms!"
      ]
    },
    {
      "cell_type": "markdown",
      "metadata": {
        "id": "2OWTlpSTb3Hb"
      },
      "source": [
        "## Finding Greatest Common Divisor (GCD)"
      ]
    },
    {
      "cell_type": "markdown",
      "metadata": {
        "id": "aNoEmkzrcNTW"
      },
      "source": [
        "### 1. Using Euclid's Method"
      ]
    },
    {
      "cell_type": "code",
      "execution_count": 10,
      "metadata": {
        "id": "bvfd8beKbkih"
      },
      "outputs": [
        {
          "data": {
            "text/plain": [
              "6"
            ]
          },
          "execution_count": 10,
          "metadata": {},
          "output_type": "execute_result"
        }
      ],
      "source": [
        "# write the function for Euclid's Algorithm\n",
        "def GCD_e(m, n):\n",
        "\n",
        "    if m < n: # if m is the smallest, make it n\n",
        "        m,n = n,m\n",
        "\n",
        "    # loop till the remainder is 0\n",
        "    # n is going to be the remainder\n",
        "    while n!= 0:\n",
        "        r = m % n   # n is the divisor and m is divident\n",
        "        m = n       # m is made n [(divisor) --> (divident)]\n",
        "        n = r       # n is made r [(remainder) --> (divisor)]\n",
        "\n",
        "    # when the remainder is 0, the divisor is made as dividend, so, dividend is returned.\n",
        "    return m        # return the GCD\n",
        "\n",
        "GCD_e(48, 18)"
      ]
    },
    {
      "cell_type": "markdown",
      "metadata": {
        "id": "VlgfmL5CeDka"
      },
      "source": [
        "### 2. Using Consecutive Integer Method"
      ]
    },
    {
      "cell_type": "code",
      "execution_count": 11,
      "metadata": {
        "id": "lOyvx2azeBnd"
      },
      "outputs": [
        {
          "name": "stdout",
          "output_type": "stream",
          "text": [
            "m= 14 n= 63 t= 14\n",
            "remainder of m/t= 0 remainder of n/t= 7\n",
            "m= 14 n= 63 t= 13\n",
            "remainder of m/t= 1 remainder of n/t= 11\n",
            "m= 14 n= 63 t= 12\n",
            "remainder of m/t= 2 remainder of n/t= 3\n",
            "m= 14 n= 63 t= 11\n",
            "remainder of m/t= 3 remainder of n/t= 8\n",
            "m= 14 n= 63 t= 10\n",
            "remainder of m/t= 4 remainder of n/t= 3\n",
            "m= 14 n= 63 t= 9\n",
            "remainder of m/t= 5 remainder of n/t= 0\n",
            "m= 14 n= 63 t= 8\n",
            "remainder of m/t= 6 remainder of n/t= 7\n",
            "m= 14 n= 63 t= 7\n",
            "remainder of m/t= 0 remainder of n/t= 0\n"
          ]
        },
        {
          "data": {
            "text/plain": [
              "7"
            ]
          },
          "execution_count": 11,
          "metadata": {},
          "output_type": "execute_result"
        }
      ],
      "source": [
        "# function:\n",
        "def GCD_c(m,n):\n",
        "\n",
        "    # get the minimum number\n",
        "    t = min(m,n)\n",
        "\n",
        "    #loop until t value reaches 0 when decremented\n",
        "    while t>0:\n",
        "\n",
        "        print(\"m=\",m,\"n=\",n,\"t=\",t)\n",
        "        print(\"remainder of m/t=\",m%t,\"remainder of n/t=\",n%t)\n",
        "        # check if both division operations give remainder as 0\n",
        "        if (m%t == 0) and (n%t == 0):\n",
        "\n",
        "            return t #return the divisor last divided with\n",
        "\n",
        "        #decrement t in each while loop\n",
        "        t = t-1\n",
        "\n",
        "GCD_c(14,63)"
      ]
    },
    {
      "cell_type": "markdown",
      "metadata": {
        "id": "jOel3dd8fL-A"
      },
      "source": [
        "## Execute the functions"
      ]
    },
    {
      "cell_type": "code",
      "execution_count": 12,
      "metadata": {
        "id": "yboWtdq6fKO7"
      },
      "outputs": [],
      "source": [
        "def execute():\n",
        "    print(\"Program to find GCD of 2 numbers\")\n",
        "    m = int(input(\"Enter m: \"))\n",
        "    n = int(input(\"Enter n: \"))\n",
        "    print(\"1: Euclid's Algorithm\")\n",
        "    print(\"2: Consecutive Integer Method\")\n",
        "    print(\"3: Both\")\n",
        "    choice = int(input(\"your choice? :\"))\n",
        "    if choice == 1:\n",
        "        print(\"GCD(\", m, \",\", n, \") is: \", GCD_e(m,n))\n",
        "    elif choice == 2:\n",
        "        print(\"GCD(\", m, \",\", n, \") is: \", GCD_c(m,n))\n",
        "    else:\n",
        "        print(\"\\nUsing Euclid's Algorithm:\")\n",
        "        print(\"GCD(\", m, \",\", n, \") is: \", GCD_e(m,n))\n",
        "        print(\"\\nUsing Consecutive Integer Method:\")\n",
        "        print(\"GCD(\", m, \",\", n, \") is: \", GCD_c(m,n))\n"
      ]
    },
    {
      "cell_type": "code",
      "execution_count": 13,
      "metadata": {
        "id": "Ie82e7aMg4pP"
      },
      "outputs": [],
      "source": [
        "def gcd(m,n):\n",
        "\n",
        "    if m < n:\n",
        "        m,n = n,m\n",
        "    \n",
        "    while n!= 0:\n",
        "        r = m %n\n",
        "        m = n\n",
        "        n = r\n",
        "    return m"
      ]
    },
    {
      "cell_type": "code",
      "execution_count": 14,
      "metadata": {},
      "outputs": [],
      "source": [
        "def consecutive(m,n):\n",
        "    t = min(m,n)\n",
        "    \n",
        "    while t > 0:\n",
        "        if (m%t == 0) and (n%t == 0):\n",
        "            return t\n",
        "        t = t-1\n",
        "    "
      ]
    },
    {
      "cell_type": "code",
      "execution_count": 17,
      "metadata": {},
      "outputs": [
        {
          "data": {
            "text/plain": [
              "3"
            ]
          },
          "execution_count": 17,
          "metadata": {},
          "output_type": "execute_result"
        }
      ],
      "source": [
        "gcd(48,9)"
      ]
    },
    {
      "cell_type": "code",
      "execution_count": 18,
      "metadata": {},
      "outputs": [
        {
          "data": {
            "text/plain": [
              "3"
            ]
          },
          "execution_count": 18,
          "metadata": {},
          "output_type": "execute_result"
        }
      ],
      "source": [
        "consecutive(48,9)"
      ]
    },
    {
      "cell_type": "code",
      "execution_count": null,
      "metadata": {},
      "outputs": [],
      "source": []
    }
  ],
  "metadata": {
    "colab": {
      "provenance": [],
      "toc_visible": true
    },
    "kernelspec": {
      "display_name": "Python 3",
      "name": "python3"
    },
    "language_info": {
      "codemirror_mode": {
        "name": "ipython",
        "version": 3
      },
      "file_extension": ".py",
      "mimetype": "text/x-python",
      "name": "python",
      "nbconvert_exporter": "python",
      "pygments_lexer": "ipython3",
      "version": "3.11.1"
    }
  },
  "nbformat": 4,
  "nbformat_minor": 0
}
